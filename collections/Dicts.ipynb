{
 "cells": [
  {
   "cell_type": "markdown",
   "metadata": {},
   "source": [
    "# Словари"
   ]
  },
  {
   "cell_type": "markdown",
   "metadata": {},
   "source": [
    "### .keys\n",
    "### .values\n",
    "### .items"
   ]
  },
  {
   "cell_type": "raw",
   "metadata": {},
   "source": [
    ">>> dictionary = {\n",
    "...     \"foo\": \"bar\",\n",
    "...     \"baz\": 42,\n",
    "...     \"items\": {\n",
    "...         1: \"apple\",\n",
    "...         2: \"orange\",\n",
    "...         100500: \"lemon\"\n",
    "...     },\n",
    "... }\n",
    "\n",
    ">>> dictionary[\"baz\"]\n",
    "\n",
    "# !!! safe way\n",
    ">>> dictionary.get(\"baz\")"
   ]
  },
  {
   "cell_type": "markdown",
   "metadata": {},
   "source": [
    "### .get()"
   ]
  },
  {
   "cell_type": "raw",
   "metadata": {},
   "source": [
    "Если вы захотите получить значение по ключу, которого может и не быть, вы можете сделать это так:\n",
    "\n",
    "dictionary[\"BANG\"] if \"BANG\" in dictionary else None\n",
    "Однако подобный \"безопасный\" запрос элементов нужен настолько часто, что объект словаря имеет для этого специальный метод .get:\n",
    "\n",
    ">>> dictionary.get(\"baz\")\n",
    "42\n",
    ">>> dictionary.get(\"BANG\")  # вернёт None\n",
    ">>> dictionary.get(\"BANG\", \"no such key\")\n",
    "'no such key'\n",
    "Третий вызов метода показывает, как можно явно задать значение по-умолчанию. Если его не указывать, метод вернёт None при отсутствии значения по указанному ключу."
   ]
  },
  {
   "cell_type": "markdown",
   "metadata": {},
   "source": [
    "### .pop()  \n",
    "### .popitem()"
   ]
  },
  {
   "cell_type": "raw",
   "metadata": {},
   "source": [
    "Удаление элементов из словаря делается с помощью метода pop — в этом словарь уже больше похож на список. Только вместо индекса используется ключ:\n",
    "\n",
    ">>> d = {'a': 1, 'b': 2}\n",
    ">>> d.pop('a')\n",
    "1\n",
    ">>> d\n",
    "{'b': 2}\n",
    ">>> d.pop('BANG')\n",
    "...\n",
    "KeyError: 'BANG'\n",
    "\n",
    "Аналогом спискового pop без аргументов для словаря служит метод popitem. Этот метод извлекает ключ и значение в виде кортежа, а если словарь уже пуст, то возбуждает исключение:\n",
    "\n",
    ">>> d = {'a': 1}\n",
    ">>> d.popitem()\n",
    "('a', 1)\n",
    ">>> d.popitem()\n",
    "...\n",
    "KeyError: 'popitem(): dictionary is empty'\n",
    "\n",
    "порядок ключей в словаре не зависит от того, в какой последовательности эти ключи добавлялись в словарь"
   ]
  },
  {
   "cell_type": "raw",
   "metadata": {},
   "source": [
    ".update()\n",
    "\n",
    ">>> cart = {'apples': 2, 'oranges': 1}\n",
    ">>> addon = {'oranges': 5, 'lemons': 3}\n",
    ">>> cart.update(addon)\n",
    ">>> cart\n",
    "{'apples': 2, 'oranges': 5, 'lemons': 3}\n",
    "\n",
    "! передача аргуметом словаря, не одного значения. \n"
   ]
  },
  {
   "cell_type": "markdown",
   "metadata": {},
   "source": [
    "### .copy()"
   ]
  },
  {
   "cell_type": "raw",
   "metadata": {},
   "source": [
    "поверхностная копия (она же \"неглубокая копия\", \"shallow copy\") "
   ]
  },
  {
   "cell_type": "code",
   "execution_count": 10,
   "metadata": {},
   "outputs": [
    {
     "name": "stdout",
     "output_type": "stream",
     "text": [
      "{'a': 1, 'b': [42]}\n",
      "{'a': 10, 'b': [42], '1k': 1024}\n",
      "{'a': 1, 'b': [42]}\n",
      "{'a': 10, 'b': [42, None], '1k': 1024}\n",
      "{'a': 1, 'b': [42, None]}\n"
     ]
    }
   ],
   "source": [
    "d = {'a': 1, 'b': [42]}\n",
    "c = d.copy()\n",
    "print(c)\n",
    "\n",
    "c.update({'a': 10, '1k': 1024})\n",
    "print(c)\n",
    "print(d)\n",
    "\n",
    "c['b'].append(None)\n",
    "print(c)\n",
    "print(d)"
   ]
  },
  {
   "cell_type": "markdown",
   "metadata": {},
   "source": [
    "### .clear()"
   ]
  },
  {
   "cell_type": "raw",
   "metadata": {},
   "source": [
    "in place - очиста по месту"
   ]
  },
  {
   "cell_type": "markdown",
   "metadata": {},
   "source": [
    "## Инициализация новых значений и defaultdicts"
   ]
  },
  {
   "cell_type": "markdown",
   "metadata": {},
   "source": [
    "### .setdefault()"
   ]
  },
  {
   "cell_type": "raw",
   "metadata": {},
   "source": [
    "Вместо : \n",
    "\n",
    "if key not in dictionary:\n",
    "    dictionary[key] = []  # инициализируем список\n",
    "dictionary[key].append(value)  # изменяем список\n",
    "\n",
    "Достаточно: \n",
    "\n",
    "dictionary.setdefault(key, []).append(value)"
   ]
  },
  {
   "cell_type": "markdown",
   "metadata": {},
   "source": [
    "### .defaultdict()"
   ]
  },
  {
   "cell_type": "raw",
   "metadata": {},
   "source": [
    "https://ru.hexlet.io/courses/python-dicts/lessons/defaultdicts/theory_unit"
   ]
  },
  {
   "cell_type": "raw",
   "metadata": {},
   "source": []
  },
  {
   "cell_type": "raw",
   "metadata": {},
   "source": []
  },
  {
   "cell_type": "raw",
   "metadata": {},
   "source": []
  },
  {
   "cell_type": "raw",
   "metadata": {},
   "source": []
  },
  {
   "cell_type": "raw",
   "metadata": {},
   "source": []
  }
 ],
 "metadata": {
  "kernelspec": {
   "display_name": "Python 3",
   "language": "python",
   "name": "python3"
  },
  "language_info": {
   "codemirror_mode": {
    "name": "ipython",
    "version": 3
   },
   "file_extension": ".py",
   "mimetype": "text/x-python",
   "name": "python",
   "nbconvert_exporter": "python",
   "pygments_lexer": "ipython3",
   "version": "3.7.4"
  }
 },
 "nbformat": 4,
 "nbformat_minor": 4
}
