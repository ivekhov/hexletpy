{
 "cells": [
  {
   "cell_type": "markdown",
   "metadata": {},
   "source": [
    "### Ссылки и мутабельность"
   ]
  },
  {
   "cell_type": "code",
   "execution_count": 9,
   "metadata": {},
   "outputs": [
    {
     "data": {
      "text/plain": [
       "2791833684152"
      ]
     },
     "execution_count": 9,
     "metadata": {},
     "output_type": "execute_result"
    }
   ],
   "source": [
    "a = 'foo'\n",
    "b = a\n",
    "a is b\n",
    "id(a)\n",
    "id(b)"
   ]
  },
  {
   "cell_type": "code",
   "execution_count": 2,
   "metadata": {},
   "outputs": [
    {
     "data": {
      "text/plain": [
       "2791866496776"
      ]
     },
     "execution_count": 2,
     "metadata": {},
     "output_type": "execute_result"
    }
   ],
   "source": [
    "a = [1, 2, 3, 4]\n",
    "b = a\n",
    "id(a)"
   ]
  },
  {
   "cell_type": "code",
   "execution_count": 3,
   "metadata": {},
   "outputs": [
    {
     "data": {
      "text/plain": [
       "2791866496776"
      ]
     },
     "execution_count": 3,
     "metadata": {},
     "output_type": "execute_result"
    }
   ],
   "source": [
    "id(b)"
   ]
  },
  {
   "cell_type": "code",
   "execution_count": 4,
   "metadata": {},
   "outputs": [
    {
     "name": "stdout",
     "output_type": "stream",
     "text": [
      "[1, 2, 3, 4, 999] [1, 2, 3, 4, 999]\n"
     ]
    }
   ],
   "source": [
    "a.append(999)\n",
    "print(a, b)"
   ]
  },
  {
   "cell_type": "code",
   "execution_count": 5,
   "metadata": {},
   "outputs": [
    {
     "name": "stdout",
     "output_type": "stream",
     "text": [
      "[1]\n",
      "[[1], [1]]\n"
     ]
    }
   ],
   "source": [
    "a = []\n",
    "l = [a, a]\n",
    "a.append(1)\n",
    "print(a)\n",
    "print(l)"
   ]
  },
  {
   "cell_type": "code",
   "execution_count": 6,
   "metadata": {},
   "outputs": [
    {
     "name": "stdout",
     "output_type": "stream",
     "text": [
      "([1], [1])\n"
     ]
    },
    {
     "data": {
      "text/plain": [
       "([1, 0, 1], [1, 0, 1])"
      ]
     },
     "execution_count": 6,
     "metadata": {},
     "output_type": "execute_result"
    }
   ],
   "source": [
    "pair = (a, a)\n",
    "print(pair)\n",
    "pair[0].append(0)\n",
    "pair[1].append(1)\n",
    "pair"
   ]
  },
  {
   "cell_type": "code",
   "execution_count": 7,
   "metadata": {},
   "outputs": [
    {
     "data": {
      "text/plain": [
       "[[], [], [], [], []]"
      ]
     },
     "execution_count": 7,
     "metadata": {},
     "output_type": "execute_result"
    }
   ],
   "source": [
    "[[]] * 5"
   ]
  },
  {
   "cell_type": "code",
   "execution_count": 8,
   "metadata": {},
   "outputs": [
    {
     "name": "stdout",
     "output_type": "stream",
     "text": [
      "['foo', 'foo']\n",
      "['foobar', 'foo']\n",
      "False\n"
     ]
    }
   ],
   "source": [
    "a = 'foo'\n",
    "l = [a, a]\n",
    "print(l)\n",
    "l[0] += 'bar'\n",
    "print(l)\n",
    "print(l[0] is l[1])\n"
   ]
  },
  {
   "cell_type": "markdown",
   "metadata": {},
   "source": [
    "### Модификация списков поэлементно, сортировка, разворачивание"
   ]
  },
  {
   "cell_type": "code",
   "execution_count": 12,
   "metadata": {},
   "outputs": [
    {
     "name": "stdout",
     "output_type": "stream",
     "text": [
      "[0, 0, 0]\n"
     ]
    },
    {
     "data": {
      "text/plain": [
       "[10, 32, 42]"
      ]
     },
     "execution_count": 12,
     "metadata": {},
     "output_type": "execute_result"
    }
   ],
   "source": [
    "l = [0] * 3\n",
    "print(l)\n",
    "l[0] = 10\n",
    "l[1] = 32\n",
    "l[-1] = l[0] + l[1]\n",
    "l"
   ]
  },
  {
   "cell_type": "code",
   "execution_count": 14,
   "metadata": {},
   "outputs": [
    {
     "name": "stdout",
     "output_type": "stream",
     "text": [
      "[1, 2]\n",
      "[2]\n"
     ]
    }
   ],
   "source": [
    "l = [1, 2, 3]\n",
    "l.pop()\n",
    "print(l)\n",
    "l.pop(0)\n",
    "print(l)\n"
   ]
  },
  {
   "cell_type": "code",
   "execution_count": 16,
   "metadata": {},
   "outputs": [
    {
     "name": "stdout",
     "output_type": "stream",
     "text": [
      "[1, 999, 2, 3]\n",
      "[1, 999, 2, 666, 3]\n"
     ]
    }
   ],
   "source": [
    "l = [1, 2, 3]\n",
    "l.insert(1, 999)\n",
    "print(l)\n",
    "l.insert(-1, 666)\n",
    "print(l)\n",
    "\n",
    "#insert всегда вставляет новый элемент перед элементом с указанным индексом относительно начала списка, вне зависимости от того, \n",
    "# откуда мы индекс отсчитывали — от начала или от конца. И insert(-1, ..) вставляет элемент перед последним элементом!"
   ]
  },
  {
   "cell_type": "code",
   "execution_count": 19,
   "metadata": {},
   "outputs": [
    {
     "name": "stdout",
     "output_type": "stream",
     "text": [
      "[1, 2, 999, -54, 3, 4]\n",
      "[-54, 1, 2, 3, 4, 999]\n",
      "[999, 4, 3, 2, 1, -54]\n"
     ]
    }
   ],
   "source": [
    "# изменяют список по месту  - (in place).\n",
    "l = [1, 2, 999, -54, 3, 4]\n",
    "print(l)\n",
    "l.sort()\n",
    "print(l)\n",
    "l.reverse()\n",
    "print(l)"
   ]
  },
  {
   "cell_type": "code",
   "execution_count": 20,
   "metadata": {},
   "outputs": [],
   "source": [
    "def mod2(x):\n",
    "    return x % 2"
   ]
  },
  {
   "cell_type": "code",
   "execution_count": 23,
   "metadata": {},
   "outputs": [
    {
     "data": {
      "text/plain": [
       "0"
      ]
     },
     "execution_count": 23,
     "metadata": {},
     "output_type": "execute_result"
    }
   ],
   "source": [
    "mod2(4)"
   ]
  },
  {
   "cell_type": "code",
   "execution_count": 25,
   "metadata": {},
   "outputs": [
    {
     "name": "stdout",
     "output_type": "stream",
     "text": [
      "[2, 6, 4, 1, 3, 5]\n"
     ]
    }
   ],
   "source": [
    "l = [1, 2, 3, 6, 5, 4]\n",
    "l.sort(key=mod2)\n",
    "print(l)"
   ]
  },
  {
   "cell_type": "code",
   "execution_count": 26,
   "metadata": {},
   "outputs": [
    {
     "name": "stdout",
     "output_type": "stream",
     "text": [
      "[2, 4, 6, 1, 3, 5]\n"
     ]
    }
   ],
   "source": [
    "def key(x):\n",
    "    return(x % 2, x)\n",
    "\n",
    "l = [1, 2, 3, 6, 5, 4]\n",
    "l.sort(key = key)\n",
    "print(l)"
   ]
  },
  {
   "cell_type": "code",
   "execution_count": 30,
   "metadata": {},
   "outputs": [
    {
     "name": "stdout",
     "output_type": "stream",
     "text": [
      "(0, 2) (0, 4) (1, 1)\n"
     ]
    }
   ],
   "source": [
    "print(key(2), key(4), key(1))"
   ]
  },
  {
   "cell_type": "code",
   "execution_count": 31,
   "metadata": {},
   "outputs": [],
   "source": [
    "# Kогда Python сравнивает кортежи, он сравнивает сначала первые элементы, а если те равны — вторые и т.д. \n",
    "# Значения сравниваются, пока не найдётся первое неравенство. \n",
    "# Либо пока не кончится один из кортежей — в этом случае более короткий будет \"меньше\"."
   ]
  },
  {
   "cell_type": "code",
   "execution_count": 32,
   "metadata": {},
   "outputs": [
    {
     "data": {
      "text/plain": [
       "True"
      ]
     },
     "execution_count": 32,
     "metadata": {},
     "output_type": "execute_result"
    }
   ],
   "source": [
    "(1, 2, 3) < (1, 2, 4)"
   ]
  },
  {
   "cell_type": "code",
   "execution_count": 33,
   "metadata": {},
   "outputs": [
    {
     "data": {
      "text/plain": [
       "True"
      ]
     },
     "execution_count": 33,
     "metadata": {},
     "output_type": "execute_result"
    }
   ],
   "source": [
    "(1, 2) > (1, 1, 3)"
   ]
  },
  {
   "cell_type": "code",
   "execution_count": 38,
   "metadata": {},
   "outputs": [
    {
     "name": "stdout",
     "output_type": "stream",
     "text": [
      "Help on built-in function count:\n",
      "\n",
      "count(...) method of builtins.list instance\n",
      "    L.count(value) -> integer -- return number of occurrences of value\n",
      "\n",
      "[1, 4, 22, 666, 999, -1, 1, 4]\n"
     ]
    },
    {
     "data": {
      "text/plain": [
       "2"
      ]
     },
     "execution_count": 38,
     "metadata": {},
     "output_type": "execute_result"
    }
   ],
   "source": [
    "help([].count)\n",
    "l = [1, 4, 22, 666, 999, -1, 1, 4]\n",
    "print(l)\n",
    "l.count(4)"
   ]
  },
  {
   "cell_type": "code",
   "execution_count": 42,
   "metadata": {},
   "outputs": [
    {
     "name": "stdout",
     "output_type": "stream",
     "text": [
      "Help on built-in function remove:\n",
      "\n",
      "remove(...) method of builtins.list instance\n",
      "    L.remove(value) -> None -- remove first occurrence of value.\n",
      "    Raises ValueError if the value is not present.\n",
      "\n",
      "[1, 22, 666, 999, -1, 1, 4]\n"
     ]
    }
   ],
   "source": [
    "help([].remove)\n",
    "l.remove(4)\n",
    "print(l)"
   ]
  },
  {
   "cell_type": "code",
   "execution_count": 45,
   "metadata": {},
   "outputs": [
    {
     "name": "stdout",
     "output_type": "stream",
     "text": [
      "Help on built-in function index:\n",
      "\n",
      "index(...) method of builtins.list instance\n",
      "    L.index(value, [start, [stop]]) -> integer -- return first index of value.\n",
      "    Raises ValueError if the value is not present.\n",
      "\n",
      "[1, 22, 666, 999, -1, 1, 4]\n"
     ]
    }
   ],
   "source": [
    "help([].index)\n",
    "l.index(1)\n",
    "print(l)"
   ]
  },
  {
   "cell_type": "markdown",
   "metadata": {},
   "source": [
    "### Срезы"
   ]
  },
  {
   "cell_type": "raw",
   "metadata": {},
   "source": [
    "some_list[START:STOP:STEP]\n",
    "Всего у среза три параметра:\n",
    "\n",
    "START — индекс первого элемента в выборке,\n",
    "STOP — индекс элемента списка, перед которым срез должен закончиться (т.е. сам элемент с индексом STOP не будет входить в выборку),\n",
    "STEP — шаг прироста выбираемых индексов."
   ]
  },
  {
   "cell_type": "raw",
   "metadata": {},
   "source": [
    "[:]/[::] — \"весь список\",\n",
    "[::2] — \"нечётные по порядку элементы\",\n",
    "[1::2] — \"чётные по порядку элементы\",\n",
    "[::-1] — \"все элементы в обратном порядке\",\n",
    "[5:] — \"все элементы, начиная с шестого\",\n",
    "[:5] — \"все элементы, не доходя до шестого\",\n",
    "[-2:1:-1] — \"все элементы от предпоследнего до второго в обратном порядке\" (во всех случаях выборки от большего индекса к меньшему нужно указывать шаг!)."
   ]
  },
  {
   "cell_type": "raw",
   "metadata": {},
   "source": [
    "Срезы-выборки работают со списками, кортежами, строками. Результатом применения выборки всегда становится новое значение соответствующего типа — список, кортеж, строка"
   ]
  },
  {
   "cell_type": "code",
   "execution_count": 50,
   "metadata": {},
   "outputs": [
    {
     "name": "stdout",
     "output_type": "stream",
     "text": [
      "[1, 4, 22, 666, 999, -1, 1, 4]\n",
      "2791867928008\n",
      "2791910042760\n",
      "[1, 4, 22, 666, 999, -1, 1, 4]\n",
      "[1, 4, 22, 666, 999, -1, 1, 4, 0]\n",
      "[1, 4, 22, 666, 999, -1, 1, 4]\n"
     ]
    }
   ],
   "source": [
    "l = [1, 4, 22, 666, 999, -1, 1, 4]\n",
    "print(l)\n",
    "print(id(l))\n",
    "print(id(l[:]))\n",
    "l[:]\n",
    "a = l[:]\n",
    "print(a)\n",
    "l.append(0)\n",
    "print(l)\n",
    "print(a)"
   ]
  },
  {
   "cell_type": "code",
   "execution_count": 54,
   "metadata": {},
   "outputs": [
    {
     "name": "stdout",
     "output_type": "stream",
     "text": [
      "[0, 2, 0, 4, 0, 6]\n"
     ]
    },
    {
     "ename": "ValueError",
     "evalue": "attempt to assign sequence of size 3 to extended slice of size 2",
     "output_type": "error",
     "traceback": [
      "\u001b[1;31m---------------------------------------------------------------------------\u001b[0m",
      "\u001b[1;31mValueError\u001b[0m                                Traceback (most recent call last)",
      "\u001b[1;32m<ipython-input-54-9e2d2f12ab38>\u001b[0m in \u001b[0;36m<module>\u001b[1;34m\u001b[0m\n\u001b[0;32m      3\u001b[0m \u001b[0mprint\u001b[0m\u001b[1;33m(\u001b[0m\u001b[0ml\u001b[0m\u001b[1;33m)\u001b[0m\u001b[1;33m\u001b[0m\u001b[0m\n\u001b[0;32m      4\u001b[0m \u001b[0ml\u001b[0m \u001b[1;33m=\u001b[0m \u001b[1;33m[\u001b[0m\u001b[1;36m1\u001b[0m\u001b[1;33m,\u001b[0m \u001b[1;36m2\u001b[0m\u001b[1;33m,\u001b[0m \u001b[1;36m3\u001b[0m\u001b[1;33m,\u001b[0m \u001b[1;36m4\u001b[0m\u001b[1;33m]\u001b[0m\u001b[1;33m\u001b[0m\u001b[0m\n\u001b[1;32m----> 5\u001b[1;33m \u001b[0ml\u001b[0m\u001b[1;33m[\u001b[0m\u001b[1;33m:\u001b[0m\u001b[1;33m:\u001b[0m\u001b[1;36m2\u001b[0m\u001b[1;33m]\u001b[0m \u001b[1;33m=\u001b[0m \u001b[1;33m[\u001b[0m\u001b[1;36m5\u001b[0m\u001b[1;33m,\u001b[0m \u001b[1;36m6\u001b[0m\u001b[1;33m,\u001b[0m \u001b[1;36m7\u001b[0m\u001b[1;33m]\u001b[0m\u001b[1;33m\u001b[0m\u001b[0m\n\u001b[0m\u001b[0;32m      6\u001b[0m \u001b[0mprint\u001b[0m\u001b[1;33m(\u001b[0m\u001b[0ml\u001b[0m\u001b[1;33m)\u001b[0m\u001b[1;33m\u001b[0m\u001b[0m\n",
      "\u001b[1;31mValueError\u001b[0m: attempt to assign sequence of size 3 to extended slice of size 2"
     ]
    }
   ],
   "source": [
    "l = [1, 2, 3, 4, 5, 6]\n",
    "l[::2] = [0, 0, 0]\n",
    "print(l)\n",
    "l = [1, 2, 3, 4]\n",
    "l[::2] = [5, 6, 7]\n",
    "print(l)"
   ]
  },
  {
   "cell_type": "code",
   "execution_count": 55,
   "metadata": {},
   "outputs": [
    {
     "name": "stdout",
     "output_type": "stream",
     "text": [
      "[1, 2, 4, 5]\n"
     ]
    }
   ],
   "source": [
    "l = [1, 2, 3]\n",
    "l[2:] = [4, 5]\n",
    "print(l)"
   ]
  },
  {
   "cell_type": "raw",
   "metadata": {},
   "source": [
    "slice() - функция создания маски среза\n",
    "l[slice_created]"
   ]
  },
  {
   "cell_type": "raw",
   "metadata": {},
   "source": [
    "# l == l[:n] + l[n:]\n",
    "какой бы мы ни выбрали неотрицательный индекс n для любого списка — даже выходящий за его пределы — указанное равенство будет соблюдаться\n"
   ]
  },
  {
   "cell_type": "code",
   "execution_count": null,
   "metadata": {},
   "outputs": [],
   "source": []
  },
  {
   "cell_type": "raw",
   "metadata": {},
   "source": [
    "Вопрос (1): как принудительно передавать копию списка, чтобы изменение inplace() копии не затрагивало оригинал?\n",
    "\n",
    "проще всего скопировать через срез [:]. Либо ту функцию, которая изменяет свой аргумент, переписать так, чтобы не изменяла. \"созданием нового списка и вставкой в него из оригинала\" - избыточное решение, обычно копируют с помощью среза."
   ]
  },
  {
   "cell_type": "raw",
   "metadata": {},
   "source": [
    "вопрос(2): какое самый практичный прием вывода из списка элементов этого списка дальше (в другую функцию или на вставку в другую коллекцию), если это не \"for item in list\"\n",
    "\n",
    "for - и есть самый практичный приём :) В некоторых ситуациях лучше вообще без цикла обойтись (list.extend вместо цикла с list.append), а так for - настоящая рабочая лошадка в любом коде.\n",
    "    "
   ]
  },
  {
   "cell_type": "code",
   "execution_count": 4,
   "metadata": {},
   "outputs": [
    {
     "name": "stdout",
     "output_type": "stream",
     "text": [
      "[42, 1, 66, None, -999]\n"
     ]
    }
   ],
   "source": [
    "a = []\n",
    "b = [42, 1, 66]\n",
    "c = [None, -999]\n",
    "a.extend(b)\n",
    "a.extend(c)\n",
    "\n",
    "# a.extend(b,c) - doesn`t work\n",
    "\n",
    "print(a)"
   ]
  },
  {
   "cell_type": "markdown",
   "metadata": {},
   "source": [
    "### Цикл for"
   ]
  },
  {
   "cell_type": "raw",
   "metadata": {},
   "source": [
    "функция enumerate (\"пронумеровать\"). Эта функция снабжает каждый элемент индексом, складывая каждый индекс вместе с элементом в кортеж. Кортежи эти, как правило, прямо в первой строке цикла и распаковывают:\n",
    "\n",
    ">>> items = ['foo', 'bar', 'baz']\n",
    ">>> for (index, elem) in enumerate(items):\n",
    "...     items[index] = elem + '!'\n",
    "...\n",
    ">>> items\n",
    "['foo!', 'bar!', 'baz!']\n",
    "\n",
    "or\n",
    ">>> for (index, _) in enumerate(items):\n",
    "...     items[index] += '!'\n"
   ]
  },
  {
   "cell_type": "raw",
   "metadata": {},
   "source": [
    "ранний выход из цикла делается с помощью команды break\n",
    "\n",
    "Для перехода к следующей итерации предназначена команда continue"
   ]
  },
  {
   "cell_type": "markdown",
   "metadata": {},
   "source": [
    "### Итераторы"
   ]
  },
  {
   "cell_type": "raw",
   "metadata": {},
   "source": [
    "Протокол итерации — один из самых важных протоколов в Python. Ведь именно он позволяет циклу for работать с самыми разными коллекциями единообразно. В чём же заключается этот протокол? Протокол требует от объекта быть итерируемым (iterable), т.е. иметь специальный метод __iter__ (да, в Python не только файлы принято называть в таком стиле). Если у iterable-объекта вызвать метод __iter__, то метод должен вернуть новый специальный объект — так называемый итератор (iterator). А итератор, в свою очередь, должен иметь метод __next__."
   ]
  },
  {
   "cell_type": "markdown",
   "metadata": {},
   "source": [
    "Iterator - \n",
    "Объект, представляющий последовательность данных\n",
    "\n",
    "* есть _iter_(), который возвращает себя же\n",
    "* iterator тоже iterable\n",
    "* оканчивается после raise StopIteration\n",
    "* iter() возвращает свежий итератор для iterable, но \"выдохшийся\" - для iterator'а\n",
    "\n",
    "Iterable - \n",
    "Объект, способный возвращать элементы по одному\n",
    "\n",
    "* у него есть _iter_() (iterator protocol) или _getitem_() (sequence protocol)\n",
    "* вызов iter() превращает в итератор\n",
    "* for вызывает iter() неявно, сохраняет итератор в безымянной переменной\n",
    "* поддерживает метод next()\n"
   ]
  },
  {
   "cell_type": "markdown",
   "metadata": {},
   "source": [
    "![itertools](http://nvie.com/img/relationships.png)"
   ]
  },
  {
   "cell_type": "markdown",
   "metadata": {},
   "source": [
    "![it](http://nvie.com/img/iterable-vs-iterator.png)"
   ]
  },
  {
   "cell_type": "raw",
   "metadata": {},
   "source": [
    "Протокол – набор требований к объекту (а-ля интерфейсы из ООП).\n",
    "Sequence protocol – поддерживает методы __getitem__(), __len__()\n",
    "Iterator protocol – поддерживает метод __iter__(). Его поддерживают генераторы. "
   ]
  },
  {
   "cell_type": "raw",
   "metadata": {},
   "source": [
    "Sequence protocol\n",
    "\n",
    "* sequence.\\__getitem\\__(). Получает на вход индекс или slice, возвращает нужные элемент(ы). Кидает IndexError, если нет такого элемента\n",
    "* sequence.\\__len\\__(). Возвращает длину послеовательности\n"
   ]
  },
  {
   "cell_type": "raw",
   "metadata": {},
   "source": [
    "Iterator protocol\n",
    "\n",
    "* iterator.\\__iter\\__(). Возвращает self\n",
    "* iterator.next(). Возвращает следующий эелемент, в конце кидает StopIteration\n"
   ]
  },
  {
   "cell_type": "raw",
   "metadata": {},
   "source": []
  },
  {
   "cell_type": "markdown",
   "metadata": {},
   "source": [
    "#### Генераторы"
   ]
  },
  {
   "cell_type": "raw",
   "metadata": {},
   "source": [
    " Генератор — это iterable, элементы которого не хранятся в нём, но создаются по мере необходимости. Для примера возьмём генератор range"
   ]
  },
  {
   "cell_type": "raw",
   "metadata": {},
   "source": [
    "Generator\n",
    "\n",
    "Функция, которая возвращает итератор\n",
    "* в ней есть yield:   yield - вернуть значение, запомнить состояние\n",
    "* можно использовать next()\n",
    "* хранит состояние между yield'ами\n",
    "* одноразовый\n",
    "* (предположительно) реализация идеи ленивых списков\n",
    "* Заранее генератор не знает длину списка\n",
    "* Полуфункциональный объект\n"
   ]
  },
  {
   "cell_type": "raw",
   "metadata": {},
   "source": []
  },
  {
   "cell_type": "raw",
   "metadata": {},
   "source": [
    "Примером  генератора является enumerate, который мы рассматривали на прошлом уроке. Давайте ещё раз взглянем на него:\n",
    "\n",
    ">>> l = enumerate(\"asdf\")\n",
    ">>> list(l)\n",
    "[(0, 'a'), (1, 's'), (2, 'd'), (3, 'f')]\n",
    ">>> list(l)\n",
    "[]\n"
   ]
  },
  {
   "cell_type": "raw",
   "metadata": {},
   "source": [
    "zip. Этот генератор принимает на входе несколько iterable или iterators и поэлементно группирует в кортежи. Демонстрация:\n",
    "\n",
    ">>> keys = [\"foo\", \"bar\", \"baz\"]\n",
    ">>> values = [1, 2, 3, 4]\n",
    ">>> for k, v in zip(keys, values):\n",
    "...     print(k, \"=\", v)\n",
    "...\n",
    "foo = 1\n",
    "bar = 2\n",
    "baz = 3\n",
    ">>> z = zip(range(10), \"hello\", [True, False])\n",
    ">>> list(z)\n",
    "[(0, 'h', True), (1, 'e', False)]\n",
    ">>> list(z)\n",
    "[]"
   ]
  },
  {
   "cell_type": "raw",
   "metadata": {},
   "source": [
    "list() -- create a list from function"
   ]
  },
  {
   "cell_type": "raw",
   "metadata": {},
   "source": []
  },
  {
   "cell_type": "markdown",
   "metadata": {},
   "source": [
    "#### List comprehensions – списковые включения"
   ]
  },
  {
   "cell_type": "raw",
   "metadata": {},
   "source": [
    "(expression for i in s if condition)\n",
    "    [expression for i in s if condition]\n",
    "    {expression for i in s if condition}\n",
    "выдает элементы по одному (не занимает память)\n",
    "полезно только для итерирования\n",
    "одноразовые\n",
    "в выражения можно включать и условия, и более сложную логику\n"
   ]
  },
  {
   "cell_type": "raw",
   "metadata": {},
   "source": [
    "Резюме про итераторы : \n",
    "\n",
    "все по чему можно запустить цикл - это iterable\n",
    "циклы работают за счет создания iterator'а из iterable\n",
    "можно создать кастомный iterator, но он должен соблюдать iterator protocol\n",
    "genarator'ы - это функции, которые в процессе делают yield, сохраняя состояние между вызовами\n",
    "generator expression - удобная форма создания генераторов.\n",
    "genarator'ы могут не только инкрементально возвращать, но и получать данные с помощью send\n",
    "itertools содержать множество полезных штук для работы с итераторами\n"
   ]
  },
  {
   "cell_type": "raw",
   "metadata": {},
   "source": []
  },
  {
   "cell_type": "markdown",
   "metadata": {},
   "source": [
    "##### Appendix"
   ]
  },
  {
   "cell_type": "code",
   "execution_count": 64,
   "metadata": {},
   "outputs": [
    {
     "name": "stdout",
     "output_type": "stream",
     "text": [
      "{'a': 100}\n",
      "{'a': 100, 'b': 200}\n",
      "{'a': 0, 'b': 200}\n"
     ]
    }
   ],
   "source": [
    "d = {}\n",
    "d['a'] = 100\n",
    "print(d)\n",
    "d['b'] = 200\n",
    "print(d)\n",
    "d['a'] = 0\n",
    "print(d)"
   ]
  },
  {
   "cell_type": "code",
   "execution_count": 66,
   "metadata": {},
   "outputs": [
    {
     "data": {
      "text/plain": [
       "{'b': 200}"
      ]
     },
     "execution_count": 66,
     "metadata": {},
     "output_type": "execute_result"
    }
   ],
   "source": [
    "d.pop('a')\n",
    "d"
   ]
  },
  {
   "cell_type": "code",
   "execution_count": 68,
   "metadata": {},
   "outputs": [
    {
     "data": {
      "text/plain": [
       "('c', 42)"
      ]
     },
     "execution_count": 68,
     "metadata": {},
     "output_type": "execute_result"
    }
   ],
   "source": [
    "d['c'] = 42\n",
    "d\n",
    "d.popitem()"
   ]
  },
  {
   "cell_type": "code",
   "execution_count": 69,
   "metadata": {},
   "outputs": [
    {
     "data": {
      "text/plain": [
       "{'apples': 2, 'oranges': 5, 'lemons': 3}"
      ]
     },
     "execution_count": 69,
     "metadata": {},
     "output_type": "execute_result"
    }
   ],
   "source": [
    "cart = {'apples': 2, 'oranges': 1}\n",
    "addon = {'oranges': 5, 'lemons': 3}\n",
    "cart.update(addon)\n",
    "cart\n",
    "\n"
   ]
  },
  {
   "cell_type": "code",
   "execution_count": 80,
   "metadata": {},
   "outputs": [
    {
     "name": "stdout",
     "output_type": "stream",
     "text": [
      "d:  {'a': 1, 'b': [42]}\n",
      "c: {'a': 1, 'b': [42]}\n",
      "c:  {'a': 10, 'b': [42], '1k': 1024}\n",
      "c: {'a': 10, 'b': [42, None], '1k': 1024}\n",
      "d: {'a': 1, 'b': [42, None]}\n"
     ]
    }
   ],
   "source": [
    "d = {'a': 1, 'b': [42]}\n",
    "print('d: ', d)\n",
    "c = d.copy()\n",
    "print('c:', c)\n",
    "c.update({'a': 10, '1k': 1024})\n",
    "print('c: ', c)\n",
    "\n",
    "c['b'].append(None)\n",
    "print('c:', c)\n",
    "print('d:', d)"
   ]
  },
  {
   "cell_type": "code",
   "execution_count": 81,
   "metadata": {},
   "outputs": [
    {
     "name": "stdout",
     "output_type": "stream",
     "text": [
      "2791907108976 2791902848128\n"
     ]
    }
   ],
   "source": [
    "print(id(c), id(d))"
   ]
  },
  {
   "cell_type": "code",
   "execution_count": 82,
   "metadata": {},
   "outputs": [
    {
     "data": {
      "text/plain": [
       "{}"
      ]
     },
     "execution_count": 82,
     "metadata": {},
     "output_type": "execute_result"
    }
   ],
   "source": [
    "d.clear()\n",
    "d"
   ]
  },
  {
   "cell_type": "code",
   "execution_count": 83,
   "metadata": {},
   "outputs": [
    {
     "name": "stdout",
     "output_type": "stream",
     "text": [
      "{'a': 10, 'b': [42, None], '1k': 1024}\n"
     ]
    }
   ],
   "source": [
    "print(c)"
   ]
  },
  {
   "cell_type": "code",
   "execution_count": 84,
   "metadata": {},
   "outputs": [
    {
     "name": "stdout",
     "output_type": "stream",
     "text": [
      "{}\n"
     ]
    }
   ],
   "source": [
    "print(d)"
   ]
  },
  {
   "cell_type": "code",
   "execution_count": null,
   "metadata": {},
   "outputs": [],
   "source": []
  }
 ],
 "metadata": {
  "kernelspec": {
   "display_name": "Python 3",
   "language": "python",
   "name": "python3"
  },
  "language_info": {
   "codemirror_mode": {
    "name": "ipython",
    "version": 3
   },
   "file_extension": ".py",
   "mimetype": "text/x-python",
   "name": "python",
   "nbconvert_exporter": "python",
   "pygments_lexer": "ipython3",
   "version": "3.7.4"
  }
 },
 "nbformat": 4,
 "nbformat_minor": 4
}
