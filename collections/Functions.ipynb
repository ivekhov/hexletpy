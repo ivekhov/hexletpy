{
 "cells": [
  {
   "cell_type": "markdown",
   "metadata": {},
   "source": [
    "## Functions"
   ]
  },
  {
   "cell_type": "markdown",
   "metadata": {},
   "source": [
    "#### Позиционные аргументы"
   ]
  },
  {
   "cell_type": "raw",
   "metadata": {},
   "source": [
    ">>> def f(*args):\n",
    "...     print(type(args))\n",
    "...     print(args)\n",
    "...\n",
    "\n",
    "Здесь в заголовке функции (так называют строчку, в которой описываются имя функции и её аргументы) указан ровно один аргумент args, но записанный со звёздочкой впереди. Звездочка означает \"эта переменная получит в виде кортежа все аргументы, от текущей позиции и до конца\". Из чего следует, что такой \"прожорливый\" аргумент может быть только один (первый же \"прожорливый\" аргумент съест всё) и может располагаться только в конце списка аргументов (иначе последующим аргументам не достанется значений). А ещё пример показывает, что *args нормально переживает и отсутствие аргументов, обычные же аргументы всегда обязательны."
   ]
  },
  {
   "cell_type": "raw",
   "metadata": {},
   "source": [
    ">>> def greet(name, *args):\n",
    "...     for n in (name,) + args:\n",
    "...         print('Hello, {}!'.format(n))\n",
    "...\n",
    "\n",
    "Здесь функция принимает несколько аргументов, но как минимум один аргумент должен быть передан всегда. Этот первый аргумент станет значением переменной name, а остальные сохранятся в *args\n",
    "\n",
    ">>> names = ['Tom', 'Ann']\n",
    ">>> greet(*names)\n",
    "\n",
    "часть аргументов можно передавать непосредственно и даже коллекции подставлять не только по одной:\n",
    ">>> greet(\n",
    "...    'Bob', *['Mary', 'Clair'], 'Sam',\n",
    "...    *('Henry', 'John')\n",
    "... )\n"
   ]
  },
  {
   "cell_type": "markdown",
   "metadata": {},
   "source": [
    "#### Именованные аргументы"
   ]
  },
  {
   "cell_type": "raw",
   "metadata": {},
   "source": [
    ">>> def bar(length, char1='-', char2='*'):\n",
    "...     return (char1 + char2) * length + char1\n",
    "\n",
    "если char1 и char2 чаще всего получают одни и те же значения.\n",
    "\n",
    ">>> print(bar(4, char2='#'))\n",
    "-#-#-#-#-\n",
    ">>> print(bar(char2='$', length=3))\n",
    "-$-$-$-\n",
    "\n",
    "именованные аргументы обладают таким свойством: порядок именованных аргументов не имеет значения!"
   ]
  },
  {
   "cell_type": "raw",
   "metadata": {},
   "source": [
    "широко практикуется такой подход: если функция принимает больше трёх аргументов, нужно хотя бы часть из них указать по имени. Особенно важно именовать значения аргументов, если несколько значений имеют одинаковый тип. Потому что очень трудно понять, что делает функция с подобным вызовом:\n",
    "\n",
    "make('circle', 300, 150, 10, None, 2.5, False)\n",
    "Сравните с этим:\n",
    "\n",
    "make(\n",
    "    shape='circle',\n",
    "    x=300, y=150, radius=10,\n",
    "    line_pattern=None,\n",
    "    line_width=2.5,\n",
    "    fill=False\n",
    ")\n",
    "\n",
    "нет ни смысла, ни возможности, указать по именам аргументы, объявленные через \"звёздочку\":\n",
    "\n",
    ">>> def sum(*args):\n",
    "...     …\n",
    "...\n",
    ">>> sum(x1=1, x2=2)\n",
    "…\n",
    "TypeError: sum() got an unexpected keyword argument 'x1'\n",
    "В таких функциях имя args недоступно извне, ведь это не один аргумент, а получатель произвольного их количества."
   ]
  },
  {
   "cell_type": "markdown",
   "metadata": {},
   "source": [
    "## Получение и передача именованных аргументов в виде словаря"
   ]
  },
  {
   "cell_type": "raw",
   "metadata": {},
   "source": [
    "Только именованные аргументы получаются в виде словаря, что позволяет сохранить имена аргументов в ключах:\n",
    "\n",
    ">>> def g(**kwargs):\n",
    "...     return kwargs\n",
    "...\n",
    ">>> g(x=1, y=2, z=None)\n",
    "{'x': 1, 'y': 2, 'z': None}\n",
    "По соглашению аргумент, получающий подобный словарь, принято называть kwargs от словосочетания \"keyword arguments\"."
   ]
  },
  {
   "cell_type": "raw",
   "metadata": {},
   "source": [
    "Аргумент *args в определении функции пишется после всех обычных позиционных аргументов перед первым аргументом со значением по умолчанию, \n",
    "а **kwargs пишется в самом конце, после последнего аргумента со значением по умолчанию.\n",
    "\n",
    "Пример: \n",
    ">>> def f(x, y, *args, kx=None, ky=42, **kwargs):\n",
    "...     return (x, y, args, kx, ky, kwargs)\n",
    "\n",
    ">>> f(1, 2, 3, 4, kx='a', ky='b', kz='c')\n",
    "(1, 2, (3, 4), 'a', 'b', {'kz': 'c'})\n",
    "\n",
    "В примере: \n",
    "Все, что между позиционным аргументом и именованным  - под *, упаковывается в кортеж.\n",
    "\n",
    "Т.е. порядок:\n",
    "\n",
    "позиционные\n",
    "  поштучное\n",
    "  списком kargs\n",
    "именованные\n",
    "  поштучно\n",
    "  словарем"
   ]
  },
  {
   "cell_type": "raw",
   "metadata": {},
   "source": [
    "Передача именованных аргументов с помощью словаря\n",
    "Как и в случае позиционных аргументов, именованные можно передавать в функцию \"пачкой\" в виде словаря. Для этого нужно перед словарём поставить… две звёздочки! Пример:\n",
    "\n",
    "\n",
    ">>> def coords(x, y):\n",
    "...     return (x, y)\n",
    "...\n",
    ">>> coords(x=1, **{'y': 2})\n",
    "(1, 2)"
   ]
  },
  {
   "cell_type": "raw",
   "metadata": {},
   "source": [
    ">>> positional = (2, 3)\n",
    ">>> named = dict(ky='b', kz='c')\n",
    "\n",
    ">>> def f(*args):\n",
    "...     print(type(args))\n",
    "...     print(args)\n",
    "\n",
    "\n",
    ">>> f(1, *positional, 4, kx='a', **named)\n",
    "\n",
    "(1, 2, (3, 4), 'a', 'b', {'kz': 'c'})"
   ]
  },
  {
   "cell_type": "code",
   "execution_count": 4,
   "metadata": {},
   "outputs": [
    {
     "data": {
      "text/plain": [
       "(1, 2, (3, 4), 'a', 'b', {'kz': 'c'})"
      ]
     },
     "execution_count": 4,
     "metadata": {},
     "output_type": "execute_result"
    }
   ],
   "source": [
    "def f(x, \n",
    "      y, \n",
    "      *args, \n",
    "      kx=None, \n",
    "      ky=42, \n",
    "      **kwargs):\n",
    "    return (x, y, args, kx, ky, kwargs)\n",
    "    \n",
    "positional = (2, 3)\n",
    "named = dict(ky='b', kz='c')\n",
    "\n",
    "f(1, \n",
    "  *positional, \n",
    "  4, \n",
    "  kx='a', \n",
    "  **named)"
   ]
  },
  {
   "cell_type": "markdown",
   "metadata": {},
   "source": [
    "#### Keyword-only аргументы"
   ]
  },
  {
   "cell_type": "raw",
   "metadata": {},
   "source": [
    "В Python 3 добавили возможность пометить именованные аргументы функции так, чтобы вызывать функцию можно было, только передав эти аргументы по именам. Такие аргументы называются keyword-only и их нельзя передать в функцию в виде позиционных. Выглядит функция с подобными аргументами так:\n",
    "\n",
    ">>> def open_file(name, *, writable=False, binary=False):\n",
    "...     …\n",
    "...\n",
    ">>> f1 = open_file('foo.txt', writable=True)\n",
    ">>> f2 = open_file('bar.bin', binary=True)\n",
    ">>> f3 = open_file('raw.dat', True, True)\n",
    "…\n",
    "TypeError: open_file() takes 1 positional argument but 3 were given\n",
    "Здесь * выступает разделителем: отделяет \"обычные\" аргументы (их можно указывать и по имени и позиционно) от \"строго именованных\". Такой разделитель можно использовать только один раз в одном определении"
   ]
  },
  {
   "cell_type": "code",
   "execution_count": 6,
   "metadata": {},
   "outputs": [],
   "source": [
    "#### Порядок аргументов1"
   ]
  },
  {
   "cell_type": "raw",
   "metadata": {},
   "source": [
    ">>> foo = [1, 2, 3]\n",
    ">>> bar = \"abc\"\n",
    ">>> # функция f здеcь та же, что и в первом разделе урока\n",
    ">>> f(kx=42, *foo, ky=100, *bar)\n",
    "(1, 2, (3, 'a', 'b', 'c'), 42, 100, {})"
   ]
  },
  {
   "cell_type": "code",
   "execution_count": 5,
   "metadata": {},
   "outputs": [
    {
     "data": {
      "text/plain": [
       "(1, 2, (3, 'a', 'b', 'c'), 42, 100, {})"
      ]
     },
     "execution_count": 5,
     "metadata": {},
     "output_type": "execute_result"
    }
   ],
   "source": [
    "foo = [1, 2, 3]\n",
    "bar = \"abc\"\n",
    "\n",
    "f(kx=42, *foo, ky=100, *bar)"
   ]
  },
  {
   "cell_type": "markdown",
   "metadata": {},
   "source": [
    "## Функции высшего порядка"
   ]
  },
  {
   "cell_type": "raw",
   "metadata": {},
   "source": [
    "принимают и возвращают \"обычные\" значения, т.е. не функции."
   ]
  },
  {
   "cell_type": "raw",
   "metadata": {},
   "source": [
    ">>> def call_with_five(function):\n",
    "...     return function(5)\n",
    "...\n",
    ">>> def add_one(x):\n",
    "...     return x + 1\n",
    "...\n",
    ">>> call_with_five(add_one)\n",
    "6"
   ]
  },
  {
   "cell_type": "raw",
   "metadata": {},
   "source": [
    ">>> def double(function):\n",
    "...     def inner(argument):\n",
    "...         return function(function(argument))\n",
    "...     return inner\n",
    "...\n",
    ">>> def multiply_by_five(x):\n",
    "...     return x * 5\n",
    "...\n",
    ">>> double(multiply_by_five)(3)\n",
    "75"
   ]
  },
  {
   "cell_type": "raw",
   "metadata": {},
   "source": [
    "В этом примере прямо в теле функции double создаётся функция inner (это имя довольно часто используется для именования функций, создаваемых на лету внутри внешней функции) и возвращается в роли результата. Именно потому, что вызов double возвращает функцию, мы можем сразу же сделать второй вызов ((3)), который уже даст нам результат двойного применения исходной функции к аргументу"
   ]
  },
  {
   "cell_type": "code",
   "execution_count": 7,
   "metadata": {},
   "outputs": [],
   "source": [
    "def double(function):\n",
    "    def inner(argument):\n",
    "        return function(function(argument))\n",
    "    return inner"
   ]
  },
  {
   "cell_type": "code",
   "execution_count": 8,
   "metadata": {},
   "outputs": [],
   "source": [
    "def multiply_by_five(x):\n",
    "    return x * 5"
   ]
  },
  {
   "cell_type": "code",
   "execution_count": 17,
   "metadata": {},
   "outputs": [
    {
     "data": {
      "text/plain": [
       "100"
      ]
     },
     "execution_count": 17,
     "metadata": {},
     "output_type": "execute_result"
    }
   ],
   "source": [
    "double(multiply_by_five)(4)  # second call in last brackets()"
   ]
  },
  {
   "cell_type": "raw",
   "metadata": {},
   "source": [
    "Но мы могли бы и не вызвать функцию-значение сразу, а вместо этого сохранить в переменную:\n",
    "\n",
    ">>> multiply_by_25 = double(multiply_by_five)\n",
    ">>> multiply_by_25\n",
    "<function double.<locals>.inner at 0x7fd1975c58c8>\n",
    ">>> multiply_by_25(1)\n",
    "25\n",
    ">>> multiply_by_625 = double(multiply_by_25)\n",
    ">>> multiply_by_625\n",
    "<function double.<locals>.inner at 0x7fd1968f41e0>\n",
    ">>> multiply_by_625(1)\n",
    "625"
   ]
  },
  {
   "cell_type": "markdown",
   "metadata": {},
   "source": [
    "## Map, Filter, Reduce"
   ]
  },
  {
   "cell_type": "markdown",
   "metadata": {},
   "source": [
    "### map()"
   ]
  },
  {
   "cell_type": "raw",
   "metadata": {},
   "source": [
    "При работе со списками часто встаёт задача применить некоторое преобразование (одно и то же) к каждому элементу. Конечно, мы всегда можем написать цикл. Однако этот цикл будет выглядеть одинаково практически во всех случаях:\n",
    "\n",
    "def f(x):\n",
    "    …\n",
    "\n",
    "new_list = []\n",
    "for item in old_list:\n",
    "    new_item = f(item)\n",
    "    new_list.append(new_item)\n",
    "\n",
    "# …\n",
    "# используем new_list"
   ]
  },
  {
   "cell_type": "raw",
   "metadata": {},
   "source": [
    ">>> def map(function, items):\n",
    "...     result = []\n",
    "...     for item in items:\n",
    "...         result.append(function(item))\n",
    "...     return result\n",
    ">>> map(str, range(5))\n",
    "[\"0\", \"1\", \"2\", \"3\", \"4\"]"
   ]
  },
  {
   "cell_type": "markdown",
   "metadata": {},
   "source": [
    "### filter()"
   ]
  },
  {
   "cell_type": "raw",
   "metadata": {},
   "source": [
    "Часто нужно не столько преобразовать элементы, а просто оставить одни элементы списка, но отбросить другие — согласно некоторому критерию. Во многих языках для решения этой задачи существует функция filter, код которой выглядит очень похоже на код map:\n",
    "\n",
    ">>> def filter(predicate, items):\n",
    "...     result = []\n",
    "...     for item in items:\n",
    "...         if predicate(item):\n",
    "...             result.append(item)\n",
    "...     return result\n",
    "...\n",
    ">>> def is_odd(x):\n",
    "...     return x % 2\n",
    "...\n",
    ">>> filter(is_odd, range(6))\n",
    "[1, 3, 5]\n",
    "\n",
    "функция filter применяет предикат к каждому элементу и добавляет в выходной список только те элементы, для которых предикат вернул True."
   ]
  },
  {
   "cell_type": "raw",
   "metadata": {},
   "source": []
  },
  {
   "cell_type": "markdown",
   "metadata": {},
   "source": [
    "### reduce()"
   ]
  },
  {
   "cell_type": "raw",
   "metadata": {},
   "source": [
    "И map, и filter работали с отдельными элементами независимо. Но ведь встречаются и циклы, которые агрегируют результат — формируют результирующее значение (одно), комбинируя элементы между собой с использованием аргумента-аккумулятора.\n",
    "\n",
    "Типичными примером агрегации может быть сумма всех элементов списка. Или, скажем, произведение. Представим, что нам нужно сложить элементы списка [1, 2, 3, 4, 5]. С точки зрения математики сумма\n",
    "\n",
    "1 + 2 + 3 + 4 + 5\n",
    "\n",
    "может быть выражена как\n",
    "\n",
    "(((((0 + 1) + 2) + 3) + 4) + 5).\n",
    "\n",
    "Ноль здесь — тот самый аккумулятор (его начальное состояние). Он не добавляет к сумме ничего, но может служить отправной точкой. А ещё — будет результатом, если входной список пуст.\n",
    "\n",
    "С помощью цикла мы бы суммировали так:\n",
    "\n",
    "acc = 0\n",
    "for item in items:\n",
    "    acc = acc + item\n",
    "А умножали бы так:\n",
    "\n",
    "acc = 1\n",
    "for item in items:\n",
    "    acc = acc * item\n",
    "Замечаете тенденцию? Циклы отличаются только начальным значением аккумулятора (0 и 1) и операцией, которая комбинирует элемент и аккумулятор (+ и *). Обобщаем!"
   ]
  },
  {
   "cell_type": "raw",
   "metadata": {},
   "source": [
    ">>> def reduce(operation, initial_value, items):\n",
    "...     acc = initial_value\n",
    "...     for item in items:\n",
    "...         acc = operation(acc, item)\n",
    "...     return acc\n",
    "...\n",
    ">>> from operator import add, mul\n",
    ">>> reduce(add, 0, [1, 2, 3, 4, 5])\n",
    "15\n",
    ">>> reduce(mul, 1, [1, 2, 3, 4, 5])\n",
    "120"
   ]
  },
  {
   "cell_type": "raw",
   "metadata": {},
   "source": [
    "В математике такая функция называется левая свёртка (left fold). И имя \"свёртка\" вполне себе говорящее — применяя эту функцию, мы сворачиваем список в одно значение!"
   ]
  },
  {
   "cell_type": "code",
   "execution_count": null,
   "metadata": {},
   "outputs": [],
   "source": []
  },
  {
   "cell_type": "raw",
   "metadata": {},
   "source": [
    "map/filter/reduce против цикла for\n",
    "Мы с вами реализовали целые три функции, каждая из которых, имеет меньшую мощность, чем цикл for. Более того, цикл for позволяет гибко управлять процессом итерации с помощью команд break и continue. Зачем же тогда нужны эти отдельные маломощные версии, когда есть одна универсальная?\n",
    "\n",
    "А нужны эти функции затем, что каждая функция делает ровно одну работу, что значительно упрощает рассуждение о коде, его чтение и написание. С первого взгляда на имя функции мы можем понять, что filter — фильтрует, а map — преобразует элементы, но не наоборот! Более того, по построению filter не меняет элементы, а только лишь отбрасывает их часть. А map меняет значение элементов, но не меняет их количество и позиции. Это знание того, что код сделать не может, дорогого стоит! Имей же мы на руках цикл for, нам бы пришлось (и приходится!) \"выполнить код в уме\" (как ещё говорят, \"поработать интерпретатором\"), ведь цикл for может делать что угодно — и менять элементы, и отбрасывать их и агрегировать результат, и даже делать всё это одновременно!"
   ]
  },
  {
   "cell_type": "markdown",
   "metadata": {},
   "source": [
    "### Примеры"
   ]
  },
  {
   "cell_type": "code",
   "execution_count": 23,
   "metadata": {},
   "outputs": [],
   "source": [
    "from functools import reduce\n",
    "from operator import add, mul"
   ]
  },
  {
   "cell_type": "raw",
   "metadata": {},
   "source": [
    "reduce(function, sequence[, initial]) -> value\n"
   ]
  },
  {
   "cell_type": "code",
   "execution_count": 24,
   "metadata": {},
   "outputs": [
    {
     "data": {
      "text/plain": [
       "6"
      ]
     },
     "execution_count": 24,
     "metadata": {},
     "output_type": "execute_result"
    }
   ],
   "source": [
    "reduce(add, [0 , 1, 2, 3])"
   ]
  },
  {
   "cell_type": "raw",
   "metadata": {},
   "source": [
    "filter(function or None, iterable) -> filter object\n",
    "\n",
    "С function всё понятно, но что делает None в роли предиката? Это замена для условия \"всё, что угодно, лишь бы было истинно!\". Тот же результат даст фильтрация с bool в качестве предиката.\n",
    "\n",
    "Обратите внимание на возвращаемое значение filter object. Это не список, но итератор. Т.е. встроенный filter — ленивый. Возвращает элементы по одному, если находит подходящие, конечно."
   ]
  },
  {
   "cell_type": "code",
   "execution_count": 30,
   "metadata": {},
   "outputs": [
    {
     "name": "stdout",
     "output_type": "stream",
     "text": [
      "<filter object at 0x061EBAF0>\n"
     ]
    }
   ],
   "source": [
    "def f(x):\n",
    "    return x > 1\n",
    "\n",
    "a = filter( f, [0, 1, 2, 3] )\n",
    "print(a)"
   ]
  },
  {
   "cell_type": "raw",
   "metadata": {},
   "source": [
    "map(func, *iterables) --> map object\n",
    "\n",
    "map object — тоже итератор. Это понятно. А вот жадный аргумент *iterables принимает несколько итерируемых объектов вместо одного! Если map передать более одного источника элементов, то функция func будет вызвана сначала для всех первых элементов  переданных источников,  потом для вторых, и так далее, пока не закончатся элементы хотя бы в одном источнике. Это чем-то похоже на функцию zip, только zip всегда возвращает кортежи, а map применяет произвольную функцию (от соответствующего числу источников количества аргументов).\n"
   ]
  },
  {
   "cell_type": "raw",
   "metadata": {},
   "source": [
    ">>> from operator import mul\n",
    ">>> list(map(mul, \"abc\", [3, 5, 7]))\n",
    "['aaa', 'bbbbb', 'ccccccc']"
   ]
  },
  {
   "cell_type": "code",
   "execution_count": 35,
   "metadata": {},
   "outputs": [
    {
     "data": {
      "text/plain": [
       "'aaaaaaaaaaa'"
      ]
     },
     "execution_count": 35,
     "metadata": {},
     "output_type": "execute_result"
    }
   ],
   "source": [
    "mul('a', 11)"
   ]
  },
  {
   "cell_type": "markdown",
   "metadata": {},
   "source": [
    "### Про побочные эффекты и чистоту функций"
   ]
  },
  {
   "cell_type": "raw",
   "metadata": {},
   "source": [
    "Функция является чистой, если не производит побочные эффекты (side effects) и возвращает результат, зависящий только от аргументов\n",
    "\n",
    "применяемые в map/filter/reduce функции должны по возможности быть чистыми (pure functions).\n",
    "\n",
    "побочные эффекты — это наблюдаемые последствия вызова функции, не относящиеся к возвращаемому результату.\n",
    "\n",
    "\n",
    "Если функция печатает что-то в консоль, пишет в файл, посылает по сети — это функция с побочными эффектами. Если вызов функции зависит от внешнего мира (глобальные изменяемые объекты, например), а не только от аргументов — функция, опять же, не чистая!\n",
    "\n",
    "Чем плохо использование побочных эффектов вместе со, скажем, функцией map? Например тем, что во первых функция возвращает ленивый итератор — а значит эффекты будут происходить не при вызове, а тогда, когда мы будем потреблять элементы"
   ]
  },
  {
   "cell_type": "raw",
   "metadata": {},
   "source": [
    "Грязные функции и reduce\n",
    "При использовании функций с побочными эффектами для правой и левой свёрток перестаёт работать равенство результата: левая свёртка будет производить эффекты для элементов по порядку, а правая — с конца к началу! Даже если возвращаемый из функции результат сойдётся (а в случае функций, зависящих от внешнего мира, даже это может быть неправдой), общий наблюдаемый эффект (например, порядок записанных в файл строк) будет отличаться!"
   ]
  },
  {
   "cell_type": "raw",
   "metadata": {},
   "source": [
    "Грязные функции и map\n",
    "Если мы возьмём грязную функцию, то для map нарушится закон\n",
    "\n",
    "map(f, map(g, l)) == map(f*g, l)\n",
    "\n",
    "Здесь в виде f*g я записал (это псевдокод!) композицию функций, т.е. получение функции, делающей x -> f(g(x)). Встроенного оператора для композиции в Python нет, но функция композиции пишется элементарно.\n",
    "\n",
    "Данный закон очень важен, ведь он позволяет произвести оптимизацию: превратить два прохода по последовательности в один. При использовании же функции с эффектами программа до оптимизации и после неё будет работать по-разному: до оптимизации будут выполнены сначала все эффекты функции g, потом — эффекты функции f, а после оптимизации эффекты g и f будут происходить парами!"
   ]
  },
  {
   "cell_type": "raw",
   "metadata": {},
   "source": [
    "Грязные функции и filter\n",
    "Для filter возможна такая оптимизация:\n",
    "\n",
    "filter(f, filter(g, l)) == filter(g&f, l)\n",
    "Здесь g&f, это условное обозначение функции, которая делает x -> g(x) and f(x). Опять же, такого оператора в Python нет, но реализовать подобную функцию очень просто.\n",
    "\n",
    "В случае filter после оптимизации эффекты тоже \"перемешаются\", как было описано выше для функции map."
   ]
  },
  {
   "cell_type": "raw",
   "metadata": {},
   "source": [
    "Простое правило\n",
    "Если вы видите, что в ФВП просится не чистая функция — перепишите на цикл. Мы помним, что цикл у нас мощный и в его теле может происходить что угодно — вот пусть и эффекты происходят в цикле, а не в чистых map/filter/reduce."
   ]
  },
  {
   "cell_type": "markdown",
   "metadata": {},
   "source": [
    "## Замыкания (closures)"
   ]
  },
  {
   "cell_type": "raw",
   "metadata": {},
   "source": [
    "Замыкание (closure), это такая функция, которая ссылается на локальные переменные (использует их в своём теле) в области видимости, в которой она была создана. \n",
    "Этим замыкание отличается от обычной функции, которая может использовать только свои аргументы и глобальные переменные"
   ]
  },
  {
   "cell_type": "raw",
   "metadata": {},
   "source": [
    "Порядок уровней переменных = LEGB\n",
    "  local\n",
    "  enclosing\n",
    "  global\n",
    "  built-in\n",
    "\n",
    "enclosing – переменная для функции, которая находится на уровне не внутри ее, но на одном уровне повыше – в рамках той старшей функции, в которая текущая функция определена\n",
    "\n",
    "    функция старшая:\n",
    "    имя -  локальное для старшей, и оно же – enclosing – по отношению к младшей\n",
    "        функция младшая:   <<-- пример замыкания --\n",
    "            имя локальное для младшей \n",
    "            имя enclosing – с уровня повыше "
   ]
  },
  {
   "cell_type": "raw",
   "metadata": {},
   "source": [
    "Замыкание (англ. closure) в программировании — функция первого класса, в теле которой присутствуют ссылки на переменные, объявленные вне тела этой функции в окружающем коде и не являющиеся её параметрами. Говоря другим языком, замыкание — функция, которая ссылается на свободные переменные в своей области видимости.\n",
    "В примере выше – замыканием является младшая функция. \n",
    "\n",
    "В случае замыкания ссылки на переменные внешней функции действительны внутри вложенной функции до тех пор, пока работает вложенная функция, даже если внешняя функция закончила работу, и переменные вышли из области видимости\n"
   ]
  },
  {
   "cell_type": "code",
   "execution_count": 38,
   "metadata": {},
   "outputs": [],
   "source": [
    "G = 10\n",
    "\n",
    "def make_closure():\n",
    "    a = 1\n",
    "    b = 2\n",
    "    def inner(x):\n",
    "        return x + G + a\n",
    "    return inner"
   ]
  },
  {
   "cell_type": "raw",
   "metadata": {},
   "source": [
    "В этом примере inner — замыкание. Переменная b не используется в теле inner и замыканием запомнена не будет. А вот переменная a, напротив, участвует в формировании результата вызова inner и поэтому её значение будет запомнено. А вот G, это глобальная переменная (если принять факт, что указанный код находится на верхнем уровне модуля, т.е. не вложен ни в какие другие блоки)."
   ]
  },
  {
   "cell_type": "raw",
   "metadata": {},
   "source": [
    "функции, создаваемые на верхнем уровне модуля, т.е. не внутри каких-либо других функций, замыканиями не являются — им просто нечего замыкать, ведь все видимые таким функциям внешние имена (импорты и другие определения из этого модуля, находящиеся выше по строчкам кода) являются глобальными."
   ]
  },
  {
   "cell_type": "raw",
   "metadata": {},
   "source": [
    "фактическое запоминание значения происходит в тот момент, когда область видимости, в которой было создано замыкание, \"заканчивается\", например завершается выполнение текущей функции. Проще всего думать, что на момент создания функции замыкаемые переменные сначала записываются в некий список дел в виде пунктов \"не забыть запомнить текущее значение переменной xyz\", а выполняются эти пункты после завершения тела функции, создавшей замыкание"
   ]
  },
  {
   "cell_type": "code",
   "execution_count": 39,
   "metadata": {},
   "outputs": [
    {
     "data": {
      "text/plain": [
       "142"
      ]
     },
     "execution_count": 39,
     "metadata": {},
     "output_type": "execute_result"
    }
   ],
   "source": [
    ">>> def make_closure():\n",
    "...     y = 1\n",
    "...     def inner(x):\n",
    "...         return x + y\n",
    "...     y = 42\n",
    "...     return inner\n",
    "...\n",
    ">>> make_closure()(100)"
   ]
  },
  {
   "cell_type": "raw",
   "metadata": {},
   "source": [
    "inner получает в качестве запомненного значения 42, пусть даже присваивание этого значения переменной y происходит и после объявления функции"
   ]
  },
  {
   "cell_type": "raw",
   "metadata": {},
   "source": [
    "замыкание переменной цикла:\n",
    "\n",
    ">>> printers = []\n",
    ">>> for i in range(10):\n",
    "...     def printer():\n",
    "...         print(i)\n",
    "...     printers.append(printer)\n",
    "...\n",
    ">>> printers[0]()\n",
    "9\n",
    ">>> printers[5]()\n",
    "9\n",
    ">>> printers[9]()\n",
    "9\n",
    ">>> i = 42\n",
    ">>> printers[0]()\n",
    "42"
   ]
  },
  {
   "cell_type": "raw",
   "metadata": {},
   "source": [
    " Как же нам починить пример с циклом, чтобы каждая функция печатала своё значение и не реагировала на дальнейшие изменения переменной цикла? Отвечаю: нужно замкнуть переменную в области видимости, которая завершится сразу же после создания замыкания! Этого можно добиться, завернув создание функции в… другую функцию! Вот код:\n",
    "\n",
    ">>> printers = []\n",
    ">>> for i in range(10):\n",
    "...     def make_printer(arg):\n",
    "...         def printer():\n",
    "...             print(arg)\n",
    "...         return printer\n",
    "...     p = make_printer(i)\n",
    "...     printers.append(p)\n",
    "...\n",
    ">>> printers[0]()\n",
    "0\n",
    ">>> printers[5]()\n",
    "5\n",
    "\n",
    "printer замыкает значение переменной arg, а она принадлежит функции make_printer и видна только пока выполняется тело функции. А ведь это именно то, что нам нужно: когда происходит выход из тела make_printer, возвращаемое замыкание получает-таки своё значение. А раз функция make_printer вызывается с разными аргументами, то и замыкания получают разные значения"
   ]
  },
  {
   "cell_type": "raw",
   "metadata": {},
   "source": [
    "\n"
   ]
  },
  {
   "cell_type": "raw",
   "metadata": {},
   "source": []
  },
  {
   "cell_type": "raw",
   "metadata": {},
   "source": []
  },
  {
   "cell_type": "markdown",
   "metadata": {},
   "source": [
    "## Анонимные функции"
   ]
  },
  {
   "cell_type": "raw",
   "metadata": {},
   "source": [
    "Иногда  нужна функция, чтобы её передать куда-то (в функцию высшего порядка), но больше эта функция нигде не понадобится. Как вы можете знать, придумывание имён в программировании — одна из основных проблем. Но если функция нужна здесь и сейчас, а больше нигде её вызывать не придётся, то и имя такой функции не нужно! Такие одноразовые функции позволяют описывать практически все языки, умеющие работать с функциями как со значениями. В Python определение подобной одноразовой функции выглядит так:\n",
    "\n",
    ">>> lambda x: x + 1\n",
    "<function <lambda> at 0x7f56e5798a60>"
   ]
  },
  {
   "cell_type": "code",
   "execution_count": 40,
   "metadata": {},
   "outputs": [
    {
     "data": {
      "text/plain": [
       "[5, 4, 3, 2, 1]"
      ]
     },
     "execution_count": 40,
     "metadata": {},
     "output_type": "execute_result"
    }
   ],
   "source": [
    ">>> l = [1, 2, 5, 3, 4]\n",
    ">>> l.sort(key=lambda x: -x)\n",
    ">>> l"
   ]
  },
  {
   "cell_type": "raw",
   "metadata": {},
   "source": [
    "аргументы анонимных функций не заключены в скобки. К этому нужно будет привыкнуть. Остальные средства для описания аргументов доступны в полной мере — и именованные аргументы, и *args с **kwargs."
   ]
  },
  {
   "cell_type": "code",
   "execution_count": 44,
   "metadata": {},
   "outputs": [
    {
     "data": {
      "text/plain": [
       "40"
      ]
     },
     "execution_count": 44,
     "metadata": {},
     "output_type": "execute_result"
    }
   ],
   "source": [
    "a = (lambda x: x * 5) (8)\n",
    "a"
   ]
  },
  {
   "cell_type": "raw",
   "metadata": {},
   "source": [
    ">>> def caller(arg):\n",
    "...     return lambda f: f(arg)\n",
    "...\n",
    ">>> call_with_five = caller(5)\n",
    ">>> call_with_five(str)\n",
    "'5'\n",
    ">>> call_with_five(lambda x: x + 1)\n",
    "6"
   ]
  },
  {
   "cell_type": "code",
   "execution_count": 48,
   "metadata": {},
   "outputs": [
    {
     "data": {
      "text/plain": [
       "'5'"
      ]
     },
     "execution_count": 48,
     "metadata": {},
     "output_type": "execute_result"
    }
   ],
   "source": [
    "def caller(arg):\n",
    "    return lambda f: f(arg)\n",
    "\n",
    "call_with_five = caller(5)\n",
    "call_with_five\n",
    "call_with_five(str)"
   ]
  },
  {
   "cell_type": "markdown",
   "metadata": {},
   "source": [
    "## Декораторы"
   ]
  },
  {
   "cell_type": "code",
   "execution_count": 49,
   "metadata": {},
   "outputs": [],
   "source": [
    ">>> def printing(function):\n",
    "...     def inner(*args, **kwargs):\n",
    "...         result = function(*args, **kwargs)\n",
    "...         print('result =', result)\n",
    "...         return result\n",
    "...     return inner\n",
    "...\n",
    ">>> def add_one(x):\n",
    "...     return x + 1"
   ]
  },
  {
   "cell_type": "raw",
   "metadata": {},
   "source": [
    "printing. Эта функция создаёт замыкание inner, которое принимает любые аргументы, применяет к ним функцию, печатает результат и тут же возвращает его. Заметьте, в определении inner я использовал аргументы *args, **kwargs, которые функция без изменения передаёт замкнутой функции function — именно так в Python объявляют \"всеядные\" функции, которые \"пробрасывают\" любые комбинации аргументов."
   ]
  },
  {
   "cell_type": "code",
   "execution_count": 51,
   "metadata": {},
   "outputs": [
    {
     "name": "stdout",
     "output_type": "stream",
     "text": [
      "result = 11\n",
      "11\n"
     ]
    }
   ],
   "source": [
    "new = printing(add_one)\n",
    "y = new(10)\n",
    "print(y)"
   ]
  },
  {
   "cell_type": "raw",
   "metadata": {},
   "source": [
    "В примере я заменил функцию обёрнутым (wrapped) вариантом через присваивание старому имени функции нового значения. Да, функции в Python — обычные переменные в той области видимости, где были объявлены!"
   ]
  },
  {
   "cell_type": "raw",
   "metadata": {},
   "source": [
    "функции-обёртки вместе с синтаксисом оборачивания называются декораторами."
   ]
  },
  {
   "cell_type": "raw",
   "metadata": {},
   "source": [
    "@printing\n",
    "def add_one(x):\n",
    "    return x + 1\n",
    "    \n",
    "Имя декоратора пишется на строчке, предшествующей заголовку функции, а перед именем пишется символ @. После такого применения декоратора нам уже не нужно \"переприсваивать\" функцию (add_one = printing(add_one))    \n",
    "    "
   ]
  },
  {
   "cell_type": "raw",
   "metadata": {},
   "source": [
    "@logging\n",
    "@printing\n",
    "@cached\n",
    "def foo():\n",
    "    # …\n",
    "равнозначно коду\n",
    "\n",
    "foo = cached(foo)\n",
    "foo = printing(foo)\n",
    "foo = logging(foo)\n",
    "# или в одну строку\n",
    "foo = logging(printing(cached(foo)))\n",
    "\n",
    "оборачивание происходит сначала в ближайшие к имени функции обёртки, т.к. как бы \"изнутри наружу\" — cached, затем printing и в конце logging."
   ]
  },
  {
   "cell_type": "markdown",
   "metadata": {},
   "source": [
    "### Декораторы с параметрами\n",
    "https://ru.hexlet.io/courses/python-functions/lessons/more-decorators/theory_unit"
   ]
  },
  {
   "cell_type": "raw",
   "metadata": {},
   "source": [
    "функция, которая примет в качестве аргумента функцию-предикат и вернёт функцию-обёртку, а та потом тоже примет в качестве аргумента функцию и вернёт функцию же"
   ]
  },
  {
   "cell_type": "raw",
   "metadata": {},
   "source": [
    "def checking_that_arg_is(predicate, error_message):\n",
    "    def wrapper(function):\n",
    "        def inner(arg):\n",
    "            if not predicate(arg):\n",
    "                raise ValueError(error_message)\n",
    "            return function(arg)\n",
    "        return inner\n",
    "    return wrapper"
   ]
  },
  {
   "cell_type": "raw",
   "metadata": {},
   "source": [
    "Функция checking_that_arg_is принимает предикат и возвращает wrapper. Вот wrapper — это уже наш декоратор с привычным уже inner внутри. Который проверяет аргумент предикатом, и, если условие соблюдено, вызывает function."
   ]
  },
  {
   "cell_type": "raw",
   "metadata": {},
   "source": [
    "Применение декоратора с параметрами выглядит так:\n",
    "\n",
    "@checking_that_arg_is(condition, \"Invalid value!\")\n",
    "def foo(arg):\n",
    "    # …"
   ]
  },
  {
   "cell_type": "raw",
   "metadata": {},
   "source": [
    "несколько замыканий, которые выступят проверками:\n",
    "\n",
    "def greater_than(value):\n",
    "    def predicate(arg):\n",
    "        return arg > value\n",
    "    return predicate\n",
    "\n",
    "def in_(*values):\n",
    "    def predicate(arg):\n",
    "        return arg in values\n",
    "    return predicate\n",
    "\n",
    "def not_(other_predicate):\n",
    "    def predicate(arg):\n",
    "        return not other_predicate(arg)\n",
    "    return predicate"
   ]
  },
  {
   "cell_type": "raw",
   "metadata": {},
   "source": [
    "Эти ФВП принимают параметры и возвращают предикаты, которые удобно использовать с описанным выше декоратором"
   ]
  },
  {
   "cell_type": "raw",
   "metadata": {},
   "source": [
    ">>> @checking_that_arg_is(greater_than(0), \"Non-positive!\")\n",
    "... @checking_that_arg_is(not_(in_(5, 15, 42)), \"Bad value!\")\n",
    "... def foo(arg):\n",
    "...     return arg\n",
    "...\n",
    ">>> foo(0)\n",
    "Traceback (most recent call last):\n",
    "  File \"<stdin>\", line 1, in <module>\n",
    "  File \"<stdin>\", line 5, in inner\n",
    "ValueError: Non-positive!\n",
    ">>> foo(5)\n",
    "Traceback (most recent call last):\n",
    "  File \"<stdin>\", line 1, in <module>\n",
    "  File \"<stdin>\", line 6, in inner\n",
    "  File \"<stdin>\", line 5, in inner\n",
    "ValueError: Bad value!\n",
    ">>> foo(6)\n",
    "6"
   ]
  },
  {
   "cell_type": "raw",
   "metadata": {},
   "source": [
    "Сохранение документации :"
   ]
  },
  {
   "cell_type": "raw",
   "metadata": {},
   "source": [
    ">>> from functools import wraps\n",
    ">>> def wrapped(function):\n",
    "...     @wraps(function)\n",
    "...     def inner(arg):\n",
    "...         return function(arg)\n",
    "...     return inner\n",
    "...\n",
    ">>> def foo(_):\n",
    "...     \"\"\"Bar.\"\"\"\n",
    "...     return 42\n",
    "...\n",
    ">>> foo = wrapped(foo)\n",
    ">>> foo\n",
    "<function foo at 0x7f1057b15048>\n",
    ">>> help(foo)\n",
    "…\n",
    "foo()\n",
    "    Bar.\n",
    "…\n",
    "Мы обернули функцию foo, но обёртка сохранила документацию и имя"
   ]
  },
  {
   "cell_type": "markdown",
   "metadata": {},
   "source": [
    "## Рекурсия"
   ]
  },
  {
   "cell_type": "raw",
   "metadata": {},
   "source": [
    "условие, прекращающее рекурсию  ->\n",
    "\n",
    "Ветки вычислений : \n",
    "по рекурсивной — в этой ветке произойдёт вызов себя (а то и не один!), \n",
    "и терминальной, которая закончит вычисление и вернёт результат.\n",
    "\n",
    "Какой-то из аргументов рекурсивной функции должен обязательно \"убывать\". Убывание может означать уменьшение счётчика, отбрасывание \"головы\" списка при движении к его хвосту, вызов себя для части исходной структуры при обработке древовидных структур данных.\n",
    "\n",
    "Глубиной рекурсии называется количество последовательных вызовов \"себя\" без возврата значения. В Python максимальная длина искусственно ограничена"
   ]
  },
  {
   "cell_type": "raw",
   "metadata": {},
   "source": [
    "Если при вычислении результата функции нужно вызвать себя один раз, как в примере с factorial, то рекурсия называется линейной"
   ]
  },
  {
   "cell_type": "raw",
   "metadata": {},
   "source": [
    "Рекурсия в этой функции (которая проверяет Гипотезу Коллатца) — линейная:\n",
    "\n",
    "def collatz(n):\n",
    "    if n == 1:\n",
    "        return True\n",
    "    if n % 2 == 0:\n",
    "        return collatz(n // 2)\n",
    "    return collatz(n * 3 + 1)\n",
    "Здесь в теле функции рекурсивных вызова два, но в каждом конкретном \"заходе\" используется только один."
   ]
  },
  {
   "cell_type": "raw",
   "metadata": {},
   "source": [
    "рекурсия в этой функции (которая вычисляет очередное Число Фибоначчи) — каскадная:\n",
    "\n",
    "def fibonacci(n):\n",
    "    if n <= 2:\n",
    "        return 1\n",
    "    return fibonacci(n - 1) + fibonacci(n - 2)"
   ]
  },
  {
   "cell_type": "raw",
   "metadata": {},
   "source": []
  }
 ],
 "metadata": {
  "kernelspec": {
   "display_name": "Python 3",
   "language": "python",
   "name": "python3"
  },
  "language_info": {
   "codemirror_mode": {
    "name": "ipython",
    "version": 3
   },
   "file_extension": ".py",
   "mimetype": "text/x-python",
   "name": "python",
   "nbconvert_exporter": "python",
   "pygments_lexer": "ipython3",
   "version": "3.7.4"
  }
 },
 "nbformat": 4,
 "nbformat_minor": 4
}
