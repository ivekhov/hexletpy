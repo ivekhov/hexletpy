{
 "cells": [
  {
   "cell_type": "markdown",
   "metadata": {},
   "source": [
    "## HTTP Введение\n",
    "\n",
    "https://ru.hexlet.io/courses/http_protocol/lessons/about/theory_unit"
   ]
  },
  {
   "cell_type": "markdown",
   "metadata": {},
   "source": [
    "Что улучшить , зная об устройстве HTTP:\n",
    "\n",
    "* Кеширование (техника ускорения вычислений и экономии ресурсов). Кеширование в HTTP очень сильно влияет на производительность web-приложений.\n",
    "* Отладка. Способность быстро находить источник проблемы и устранять его. Резко падает количество магии.\n",
    "* Производительность. Последние версии протокола позволяют очень эффективно использовать каналы связи.\n",
    "* Безопасность. Через сеть постоянно передаются секретные данные (пароли, ключи, личная информация). Держать их в секрете получится только зная как работает HTTP.\n",
    "* Дизайн (Архитектура). Правильное использование HTTP позволяет делать поведение сайтов и приложений (мобильных) гораздо более предсказуемым, устойчивым к ошибкам, простым в обслуживании.\n",
    "* Аутентификация. Способность сайтов запоминать пользователей тоже базируется на возможностях HTTP (cookies)."
   ]
  },
  {
   "cell_type": "markdown",
   "metadata": {},
   "source": [
    "## Referecnes\n",
    "\n",
    "* https://habr.com/ru/post/215117/\n",
    "* http://citforum.ru/internet/cgi_tut/rqst.shtml\n",
    "* http://citforum.ru/internet/cgi_tut/spns.shtml"
   ]
  },
  {
   "cell_type": "raw",
   "metadata": {},
   "source": []
  },
  {
   "cell_type": "raw",
   "metadata": {},
   "source": []
  },
  {
   "cell_type": "raw",
   "metadata": {},
   "source": []
  },
  {
   "cell_type": "raw",
   "metadata": {},
   "source": []
  },
  {
   "cell_type": "raw",
   "metadata": {},
   "source": []
  }
 ],
 "metadata": {
  "kernelspec": {
   "display_name": "Python 3",
   "language": "python",
   "name": "python3"
  },
  "language_info": {
   "codemirror_mode": {
    "name": "ipython",
    "version": 3
   },
   "file_extension": ".py",
   "mimetype": "text/x-python",
   "name": "python",
   "nbconvert_exporter": "python",
   "pygments_lexer": "ipython3",
   "version": "3.7.4"
  }
 },
 "nbformat": 4,
 "nbformat_minor": 4
}
