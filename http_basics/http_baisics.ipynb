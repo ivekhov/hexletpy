{
 "cells": [
  {
   "cell_type": "markdown",
   "metadata": {},
   "source": [
    "## HTTP Введение\n",
    "\n",
    "https://ru.hexlet.io/courses/http_protocol/lessons/about/theory_unit"
   ]
  },
  {
   "cell_type": "markdown",
   "metadata": {},
   "source": [
    "Что улучшить , зная об устройстве HTTP:\n",
    "\n",
    "* Кеширование (техника ускорения вычислений и экономии ресурсов). Кеширование в HTTP очень сильно влияет на производительность web-приложений.\n",
    "* Отладка. Способность быстро находить источник проблемы и устранять его. Резко падает количество магии.\n",
    "* Производительность. Последние версии протокола позволяют очень эффективно использовать каналы связи.\n",
    "* Безопасность. Через сеть постоянно передаются секретные данные (пароли, ключи, личная информация). Держать их в секрете получится только зная как работает HTTP.\n",
    "* Дизайн (Архитектура). Правильное использование HTTP позволяет делать поведение сайтов и приложений (мобильных) гораздо более предсказуемым, устойчивым к ошибкам, простым в обслуживании.\n",
    "* Аутентификация. Способность сайтов запоминать пользователей тоже базируется на возможностях HTTP (cookies)."
   ]
  },
  {
   "cell_type": "markdown",
   "metadata": {},
   "source": [
    "## Referecnes\n",
    "\n",
    "* https://habr.com/ru/post/215117/\n",
    "* http://citforum.ru/internet/cgi_tut/rqst.shtml\n",
    "* http://citforum.ru/internet/cgi_tut/spns.shtml"
   ]
  },
  {
   "cell_type": "raw",
   "metadata": {},
   "source": [
    "запросы\n",
    "\n",
    "HEAD\n",
    "GET \n",
    "\n",
    "стандарт HTTP 1.1\n",
    "\n",
    "HEAD / HTTP/1.0\n",
    "HEAD / HTTP/1.1\n",
    "\n",
    "GET / HTTP/1.1"
   ]
  },
  {
   "cell_type": "markdown",
   "metadata": {},
   "source": [
    "https://ru.hexlet.io/courses/http_protocol/lessons/http_1_1/theory_unit\n",
    "\n",
    "https://www.ietf.org/rfc/rfc2616.txt\n",
    "\n",
    "https://ru.wikipedia.org/wiki/HTTP/2\n",
    "\n",
    "https://ru.wikipedia.org/wiki/HTTP\n",
    "\n",
    "http://citforum.ru/internet/cgi_tut/rqst.shtml\n",
    "http://citforum.ru/internet/cgi_tut/spns.shtml\n",
    "    "
   ]
  },
  {
   "cell_type": "raw",
   "metadata": {},
   "source": [
    "пример обращения к серверу: \n",
    "\n",
    "\n",
    "POST /login HTTP/1.1\n",
    "HOST: hexlettesthost.com\n",
    "Content-Type: application/x-www-form-urlencoded\n",
    "Content-Length: 28\n",
    "Connection: close\n",
    "\n",
    "login=user&password=12345678   // <<-- BODY\n"
   ]
  },
  {
   "cell_type": "raw",
   "metadata": {},
   "source": [
    "\n",
    "telnet httpwatch.com 80\n",
    "\n",
    "\n",
    "GET /httpgallery/chunked/chunkedimage.aspx?0.018236515810713172 HTTP/1.1\n",
    "Host: www.httpwatch.com\n",
    "Connection: close\n",
    "\n"
   ]
  },
  {
   "cell_type": "raw",
   "metadata": {},
   "source": [
    "Существует отправка форм при обращении. \n",
    "\n",
    "Запрос на получение ответа чанками. \n",
    "\n",
    "Query string  - передача строки в запросе (например, в поисковиках ,если копипаста урла с  )\n",
    "https://en.wikipedia.org/wiki/Query_string\n",
    "\n",
    "идемпотентность - неизменяемость системы после осуществления метода (GET)\n",
    "POST - напротив, изменяет состояние системы, к которой производится обращение. \n",
    "\n",
    "Ре-директ - 300-е ошибки, если протокол HTTPS, например. \n",
    "\n",
    "Базовая аутентификация: \n",
    "https://en.wikipedia.org/wiki/Basic_access_authentication\n",
    "\n",
    "Куки-файлы\n",
    "https://ru.wikipedia.org/wiki/Cookie \n",
    "HTTP Cookie / Mozilla\n",
    "RFC 6265: стандарт, описывающий cookie\n"
   ]
  }
 ],
 "metadata": {
  "kernelspec": {
   "display_name": "Python 3",
   "language": "python",
   "name": "python3"
  },
  "language_info": {
   "codemirror_mode": {
    "name": "ipython",
    "version": 3
   },
   "file_extension": ".py",
   "mimetype": "text/x-python",
   "name": "python",
   "nbconvert_exporter": "python",
   "pygments_lexer": "ipython3",
   "version": "3.7.4"
  }
 },
 "nbformat": 4,
 "nbformat_minor": 4
}
